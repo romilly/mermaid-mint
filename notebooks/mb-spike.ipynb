{
 "cells": [
  {
   "cell_type": "code",
   "id": "initial_id",
   "metadata": {
    "collapsed": true,
    "ExecuteTime": {
     "end_time": "2025-05-24T14:37:17.933415Z",
     "start_time": "2025-05-24T14:37:17.930607Z"
    }
   },
   "source": [
    "from mermaid_builder.base import Color, Icon\n",
    "from mermaid_builder.flowchart import *"
   ],
   "outputs": [],
   "execution_count": 3
  },
  {
   "metadata": {
    "ExecuteTime": {
     "end_time": "2025-05-24T14:37:18.006149Z",
     "start_time": "2025-05-24T14:37:17.988519Z"
    }
   },
   "cell_type": "code",
   "source": [
    "import os\n",
    "\n",
    "from mermaid_builder.base import Color, Icon\n",
    "from mermaid_builder.flowchart import *\n",
    "\n",
    "current_dir = \"/home/romilly/git/active/mermaid-mint/notebooks\"\n",
    "\n",
    "\n",
    "def test_flowchart():\n",
    "    chart = Flowchart(title=\"Simple Flowchart\")\n",
    "\n",
    "    # Declare nodes\n",
    "    subgraph = Subgraph(name=\"Storage\")\n",
    "\n",
    "    user_node = Node(name=\"User\", shape=NodeShape.ROUNDED_RECTANGLE, icon=Icon.USER)\n",
    "    elb_node = Node(name=\"ELB\", shape=NodeShape.ROUNDED_RECTANGLE, icon=Icon.LOAD_BALANCER, class_name=\"gateway\")\n",
    "\n",
    "    order_node = Node(name=\"Order Service\", shape=NodeShape.ROUNDED_RECTANGLE, class_name=\"api\")\n",
    "    payment_node = Node(name=\"Payment Service\", shape=NodeShape.ROUNDED_RECTANGLE, class_name=\"api\")\n",
    "\n",
    "    redis_node = Node(name=\"Redis\", shape=NodeShape.ROUNDED_RECTANGLE, class_name=\"storage\", subgraph=subgraph)\n",
    "    db_node = Node(name=\"DB\", shape=NodeShape.CYLINDER, icon=Icon.DATABASE, class_name=\"storage\", subgraph=subgraph)\n",
    "\n",
    "    # Declare node connections (edges)\n",
    "    user_node.add_connections(Link(text=\"call\"), elb_node)\n",
    "    elb_node.add_connections(Link(), order_node, payment_node)\n",
    "    order_node.add_connections(Link(), redis_node, db_node)\n",
    "    payment_node.add_connections(Link(), subgraph)\n",
    "\n",
    "    # Add items to chart (nodes or subgraph)\n",
    "    chart.add_items(user_node, order_node, subgraph, payment_node, redis_node, elb_node)\n",
    "\n",
    "    # Add styles\n",
    "    chart.add_styles(Style(class_name=\"gateway\", fill=Color.RED, color=Color.WHITE))\n",
    "    chart.add_styles(Style(class_name=\"api\", fill=Color.ORANGE, color=Color.WHITE))\n",
    "    chart.add_styles(Style(class_name=\"storage\", fill=Color.GREEN, color=Color.WHITE))\n",
    "\n",
    "    chart.save(current_dir + \"/outputs/flowchart.mmd\")\n",
    "    print(chart.get_mermaid_live_url())\n",
    "\n",
    "\n",
    "test_flowchart()\n"
   ],
   "id": "a75fe94be36d0271",
   "outputs": [
    {
     "name": "stdout",
     "output_type": "stream",
     "text": [
      "http://mermaid.live/view#pako:eNqtVN9r2zAQ/lcOl7zFIyWDphqMtmvylLFRb3uZxzhbZ1sgS0JS1hg3//vkyGlXtnZj6T0Iofu+737ouD4pNaeEQZKmaa688JIYZKI1kmAl9W3ZoPW52nsnk14o4Rn0eeIbaikPxDyRom58nkxhfP2CVmAhyQ3uAK208itshewi/r1W2hksA313T3qXZdH7inhNayxIgoEeDHIuVM1gZrYwN9s3sAu03WSSq+qQHqxvcgXBNo7sRe8aNKEIqzeKE5+CHMQG6QpZhekAgs/hCDpp+hbuSpTyjmTBGKvR0y12f9VwwlOLBpbrq6ASg2vLyX4Puj9ESUELjXhG58OAhiyiYyaWuHCB6Ly2WNMz5JsB+XKBefGHqGUnfyubo8cCHcH1Q9nOd2FURjbYLTudTW0XztG9KWqLprlHfM3i5Vv0D8aFpdILreDT1cPr/7Zjr3hMRaR4vBjsWlL+n1v7MeIfN3fMYpQ+YsqC1nE//SIpHN+TXJUSnbumCsYsoBJSspPlfHG5uJyWWmrLTlZ7+wUc4hyAs7Pz16dPAg+TFsFni/PlfPkYHHZV0pJtUfBhRcUNNCxBThVupA8L5ifQzLhx\n"
     ]
    }
   ],
   "execution_count": 4
  }
 ],
 "metadata": {
  "kernelspec": {
   "display_name": "Python 3",
   "language": "python",
   "name": "python3"
  },
  "language_info": {
   "codemirror_mode": {
    "name": "ipython",
    "version": 2
   },
   "file_extension": ".py",
   "mimetype": "text/x-python",
   "name": "python",
   "nbconvert_exporter": "python",
   "pygments_lexer": "ipython2",
   "version": "2.7.6"
  }
 },
 "nbformat": 4,
 "nbformat_minor": 5
}
